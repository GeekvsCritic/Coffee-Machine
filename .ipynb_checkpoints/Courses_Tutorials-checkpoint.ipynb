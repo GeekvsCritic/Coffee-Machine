{
 "cells": [
  {
   "cell_type": "code",
   "execution_count": 1,
   "metadata": {},
   "outputs": [
    {
     "name": "stdout",
     "output_type": "stream",
     "text": [
      "True False False False\n"
     ]
    }
   ],
   "source": [
    "a = True and True    # True\n",
    "b = True and False   # False\n",
    "c = False and False  # False\n",
    "d = False and True   # False\n",
    "print(a, b, c, d)"
   ]
  },
  {
   "cell_type": "code",
   "execution_count": 2,
   "metadata": {},
   "outputs": [
    {
     "name": "stdout",
     "output_type": "stream",
     "text": [
      "True True False True\n"
     ]
    }
   ],
   "source": [
    "a = True or True    # True\n",
    "b = True or False   # True\n",
    "c = False or False  # False\n",
    "d = False or True   # True\n",
    "print(a, b, c, d)"
   ]
  },
  {
   "cell_type": "code",
   "execution_count": 3,
   "metadata": {},
   "outputs": [
    {
     "name": "stdout",
     "output_type": "stream",
     "text": [
      "True False\n"
     ]
    }
   ],
   "source": [
    "to_be = True           # to_be is True\n",
    "not_to_be = not to_be  # not_to_be is False\n",
    "print(to_be, not_to_be)"
   ]
  },
  {
   "cell_type": "code",
   "execution_count": 4,
   "metadata": {},
   "outputs": [
    {
     "name": "stdout",
     "output_type": "stream",
     "text": [
      "True Is True\n"
     ]
    }
   ],
   "source": [
    "if a == b:\n",
    "    print(a, \"Is True\")\n",
    "else:\n",
    "    print(b, \"Is False\")"
   ]
  },
  {
   "cell_type": "code",
   "execution_count": 5,
   "metadata": {},
   "outputs": [
    {
     "ename": "NameError",
     "evalue": "name 'x' is not defined",
     "output_type": "error",
     "traceback": [
      "\u001b[1;31m---------------------------------------------------------------------------\u001b[0m",
      "\u001b[1;31mNameError\u001b[0m                                 Traceback (most recent call last)",
      "\u001b[1;32m<ipython-input-5-1e19b0f429ae>\u001b[0m in \u001b[0;36m<module>\u001b[1;34m\u001b[0m\n\u001b[1;32m----> 1\u001b[1;33m \u001b[0mx\u001b[0m \u001b[1;32mand\u001b[0m \u001b[0my\u001b[0m\u001b[1;33m\u001b[0m\u001b[1;33m\u001b[0m\u001b[0m\n\u001b[0m",
      "\u001b[1;31mNameError\u001b[0m: name 'x' is not defined"
     ]
    }
   ],
   "source": [
    "x and y"
   ]
  },
  {
   "cell_type": "code",
   "execution_count": null,
   "metadata": {},
   "outputs": [],
   "source": [
    "lazy_or = (1 / 0) or True  # True\n",
    "print(lazy_or)"
   ]
  },
  {
   "cell_type": "code",
   "execution_count": null,
   "metadata": {},
   "outputs": [],
   "source": [
    "a xor b"
   ]
  },
  {
   "cell_type": "code",
   "execution_count": null,
   "metadata": {},
   "outputs": [],
   "source": [
    "a = True\n",
    "b = True\n",
    "c = not a or b\n",
    "d = (a or b) and not (a and b)\n",
    "e = (a and b) or not (a or b)\n",
    "f = (a and not b) or (not a and b)\n",
    "g = a and not b\n",
    "print(c, d, e, f, g)"
   ]
  },
  {
   "cell_type": "code",
   "execution_count": null,
   "metadata": {},
   "outputs": [],
   "source": [
    "a = True\n",
    "b = False\n",
    "c = not a or b\n",
    "d = (a or b) and not (a and b)\n",
    "e = (a and b) or not (a or b)\n",
    "f = (a and not b) or (not a and b)\n",
    "g = a and not b\n",
    "print(c, d, e, f, g)"
   ]
  },
  {
   "cell_type": "code",
   "execution_count": null,
   "metadata": {},
   "outputs": [],
   "source": [
    "a = False\n",
    "b = False\n",
    "c = not a or b\n",
    "d = (a or b) and not (a and b)\n",
    "e = (a and b) or not (a or b)\n",
    "f = (a and not b) or (not a and b)\n",
    "g = a and not b\n",
    "print(c, d, e, f, g)"
   ]
  },
  {
   "cell_type": "code",
   "execution_count": null,
   "metadata": {},
   "outputs": [],
   "source": [
    "a = False\n",
    "b = True\n",
    "c = not a or b\n",
    "d = (a or b) and not (a and b)\n",
    "e = (a and b) or not (a or b)\n",
    "f = (a and not b) or (not a and b)\n",
    "g = a and not b\n",
    "print(c, d, e, f, g)"
   ]
  },
  {
   "cell_type": "code",
   "execution_count": null,
   "metadata": {},
   "outputs": [],
   "source": [
    "a = 200\n",
    " \n",
    "test_result = a <= 0 or a > 200\n",
    "print(test_result)"
   ]
  },
  {
   "cell_type": "code",
   "execution_count": null,
   "metadata": {},
   "outputs": [],
   "source": [
    "# put your python code here\n",
    "dividend = int(input())  # 99\n",
    "divider = int(input())  # 3\n",
    "\n",
    "\n",
    "def division(a, b):\n",
    "    if a % b == 0:\n",
    "        print(True)\n",
    "    else:\n",
    "        print(False)\n",
    "\n",
    "\n",
    "if divider < dividend:\n",
    "    division(dividend, divider)\n",
    "else:\n",
    "    print(\"Enter the numbers again\")\n",
    "    dividend = int(input())  # 99\n",
    "    divider = int(input())  # 3\n",
    "    division(dividend, divider)\n"
   ]
  },
  {
   "cell_type": "code",
   "execution_count": null,
   "metadata": {},
   "outputs": [],
   "source": [
    "dividend = int(input())  # 99\n",
    "divider = int(input())  # 3\n",
    "result = dividend // divider\n",
    "\n",
    "if result % 2 > 0:\n",
    "    print(True)\n",
    "else:\n",
    "    print(False)\n"
   ]
  },
  {
   "cell_type": "code",
   "execution_count": null,
   "metadata": {},
   "outputs": [],
   "source": [
    "result % 2"
   ]
  },
  {
   "cell_type": "code",
   "execution_count": null,
   "metadata": {},
   "outputs": [],
   "source": [
    "coin = False\n",
    "print(\"Welcome to Charon's boat!\")\n",
    "if coin is True:\n",
    "    print(\"step in\")\n",
    "else:\n",
    "    print(\"Alas\")\n",
    "    \n",
    "print(\"There is no turning back.\")"
   ]
  },
  {
   "cell_type": "code",
   "execution_count": null,
   "metadata": {},
   "outputs": [],
   "source": [
    "maximum = a \n",
    "if b > maximum:\n",
    "    maximum = b\n",
    "print(maximum)"
   ]
  },
  {
   "cell_type": "markdown",
   "metadata": {},
   "source": [
    "pasta = \"tomato, basil, garlic, salt, pasta, olive oil\"\n",
    "apple_pie = \"apple, sugar, salt, cinnamon, flour, egg, butter\"\n",
    "ratatouille = \"aubergine, carrot, onion, tomato, garlic, olive oil, pepper, salt\"\n",
    "chocolate_cake = \"chocolate, sugar, salt, flour, coffee, butter\"\n",
    "omelette = \"egg, milk, bacon, tomato, salt, pepper\""
   ]
  },
  {
   "cell_type": "code",
   "execution_count": null,
   "metadata": {},
   "outputs": [],
   "source": [
    "if \"basil\" in (pasta):\n",
    "    print(\"you can make\", +pasta)"
   ]
  },
  {
   "cell_type": "code",
   "execution_count": null,
   "metadata": {},
   "outputs": [],
   "source": [
    "pasta = \"tomato, basil, garlic, salt, pasta, olive oil\"\n",
    "apple_pie = \"apple, sugar, salt, cinnamon, flour, egg, butter\"\n",
    "ratatouille = \"aubergine, carrot, onion, tomato, garlic, olive oil, pepper, salt\"\n",
    "chocolate_cake = \"chocolate, sugar, salt, flour, coffee, butter\"\n",
    "omelette = \"egg, milk, bacon, tomato, salt, pepper\"\n",
    "\n",
    "ingredient = str(input())\n",
    "if ingredient in pasta:\n",
    "    print(\"You can make pasta\")\n",
    "if ingredient in apple_pie:\n",
    "    print(\"You can make apple pie\")\n",
    "if ingredient in ratatouille:\n",
    "    print(\"You can make ratatouille\")\n",
    "if ingredient in chocolate_cake:\n",
    "    print(\"You can make chocolate cake\")\n",
    "if ingredient in omelette:\n",
    "    print(\"You can make omelette\")\n"
   ]
  },
  {
   "cell_type": "code",
   "execution_count": null,
   "metadata": {},
   "outputs": [],
   "source": [
    "x = 101\n",
    "if x < 100:\n",
    "    print('x < 100')\n",
    "else:\n",
    "    if x == 100:\n",
    "        print('x = 100')\n",
    "    else:\n",
    "        print('x > 100')\n",
    "    print('This will be printed only because x >= 100')"
   ]
  },
  {
   "cell_type": "code",
   "execution_count": null,
   "metadata": {},
   "outputs": [],
   "source": [
    "print(\"x < 100\" if x < 100 else print(\"x = 100\") if x == 100 else print(\"x > 100\")) "
   ]
  },
  {
   "cell_type": "code",
   "execution_count": null,
   "metadata": {},
   "outputs": [],
   "source": [
    "print(True) if x >= 0 else print(False)"
   ]
  },
  {
   "cell_type": "code",
   "execution_count": null,
   "metadata": {},
   "outputs": [],
   "source": [
    "dictionary = [\"aa\", \"abab\", \"aac\", \"ba\", \"bac\", \"baba\", \"cac\", \"caac\"]\n",
    "word = str(input())\n",
    "print(\"Correct\") if word in dictionary else print(\"Incorrect\")\n",
    "\n"
   ]
  },
  {
   "cell_type": "code",
   "execution_count": null,
   "metadata": {
    "slideshow": {
     "slide_type": "subslide"
    }
   },
   "outputs": [],
   "source": [
    "2004 % 400"
   ]
  },
  {
   "cell_type": "code",
   "execution_count": null,
   "metadata": {
    "slideshow": {
     "slide_type": "slide"
    }
   },
   "outputs": [],
   "source": [
    "print(\"Leap\") if (int(input()) % 4) == 0 else print(\"Ordinary\")"
   ]
  },
  {
   "cell_type": "code",
   "execution_count": 6,
   "metadata": {},
   "outputs": [
    {
     "name": "stdout",
     "output_type": "stream",
     "text": [
      "2\n",
      "Ordinary\n"
     ]
    }
   ],
   "source": [
    "year = int(input())\n",
    "print(\"Leap\") if (year % 4 == 0 and (year % 100 != 0 or year % 400 == 0)) else print(\"Ordinary\")"
   ]
  },
  {
   "cell_type": "code",
   "execution_count": null,
   "metadata": {},
   "outputs": [],
   "source": [
    "year = int(input())\n",
    "result = year // 400\n",
    "print(result)\n",
    "print(\"Leap\") if (result % 2) == 0 else print(\"Ordinary\")"
   ]
  },
  {
   "cell_type": "code",
   "execution_count": 7,
   "metadata": {},
   "outputs": [
    {
     "name": "stdout",
     "output_type": "stream",
     "text": [
      "yes\n",
      "Let's drink cocoa!\n"
     ]
    }
   ],
   "source": [
    "print(\"Let's drink cocoa!\" if input() == \"yes\" else print(\"I'd recommend a coffee!\"))"
   ]
  },
  {
   "cell_type": "markdown",
   "metadata": {},
   "source": [
    "<H2>sads</H2>"
   ]
  },
  {
   "cell_type": "code",
   "execution_count": 49,
   "metadata": {},
   "outputs": [
    {
     "name": "stdout",
     "output_type": "stream",
     "text": [
      "5654\n",
      "245 Chicken\n",
      "8 Goat\n",
      "4 Pig\n",
      "1 Cow\n"
     ]
    }
   ],
   "source": [
    "keys = {\"Chicken\": 23,\n",
    "        \"Goat\": 678,\n",
    "        \"Pig\": 1296,\n",
    "        \"Cow\": 3848,\n",
    "        \"Sheep\": 6769}\n",
    "\n",
    "money = int(input())\n",
    "\n",
    "for i in keys:\n",
    "    count = money // keys[i] \n",
    "#    print(keys[i])\n",
    "#    print(count)\n",
    "    if money // keys[i] > 0:\n",
    "        print(count, i)\n"
   ]
  },
  {
   "cell_type": "code",
   "execution_count": 55,
   "metadata": {},
   "outputs": [
    {
     "name": "stdout",
     "output_type": "stream",
     "text": [
      "25\n",
      "1 chicken\n"
     ]
    }
   ],
   "source": [
    "Chicken = 23\n",
    "Goat = 678\n",
    "Pig = 1296\n",
    "Cow = 3848\n",
    "Sheep = 6769\n",
    "money = int(input())\n",
    "# print(max(Chicken, Goat, Pig, Cow, Sheep))\n",
    "buy_chicken = money // Chicken\n",
    "buy_goat = money // Goat\n",
    "buy_pig = money // Pig\n",
    "buy_cow = money // Cow\n",
    "buy_sheep = money // Sheep\n",
    "\n",
    "if buy_chicken > 0:\n",
    "    if buy_chicken == 1:\n",
    "        print(buy_chicken, \"chicken\")\n",
    "    else:\n",
    "        print(buy_chicken, \"chickens\")\n",
    "    if buy_goat > 0:\n",
    "        if buy_goat == 1:\n",
    "            print(buy_goat, \"goat\")\n",
    "        else:\n",
    "            print(buy_goat, \"goats\")\n",
    "        if buy_pig > 0:\n",
    "            if buy_pig == 1:\n",
    "                print(buy_pig, \"pig\")\n",
    "            else:\n",
    "                print(buy_pig, \"pigs\")\n",
    "            if buy_cow > 0:\n",
    "                if buy_cow == 1:\n",
    "                    print(buy_cow, \"cow\")\n",
    "                else:\n",
    "                    print(buy_cow, \"cows\")\n",
    "            if buy_sheep > 0:\n",
    "                if buy_sheep == 1:\n",
    "                    print(buy_sheep, \"sheep\")\n",
    "                else:\n",
    "                    print(buy_sheep, \"sheeps\")\n",
    "else:\n",
    "    print(\"None\")\n"
   ]
  }
 ],
 "metadata": {
  "celltoolbar": "Tags",
  "kernelspec": {
   "display_name": "Python 3",
   "language": "python",
   "name": "python3"
  },
  "language_info": {
   "codemirror_mode": {
    "name": "ipython",
    "version": 3
   },
   "file_extension": ".py",
   "mimetype": "text/x-python",
   "name": "python",
   "nbconvert_exporter": "python",
   "pygments_lexer": "ipython3",
   "version": "3.8.2"
  },
  "widgets": {
   "application/vnd.jupyter.widget-state+json": {
    "state": {},
    "version_major": 2,
    "version_minor": 0
   }
  }
 },
 "nbformat": 4,
 "nbformat_minor": 4
}
